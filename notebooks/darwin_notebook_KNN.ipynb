{
 "cells": [
  {
   "cell_type": "markdown",
   "id": "38faa400-644f-4b68-a034-4985ebef7cd1",
   "metadata": {},
   "source": [
    "## Final Project"
   ]
  },
  {
   "cell_type": "markdown",
   "id": "8cf1231d-aed7-4f1a-a2a8-e1757d40af31",
   "metadata": {},
   "source": [
    "### 0. Import libraries"
   ]
  },
  {
   "cell_type": "code",
   "execution_count": 40,
   "id": "b2cd9e7e-a0ec-4e3e-825c-30bde9ace15e",
   "metadata": {},
   "outputs": [],
   "source": [
    "import pandas as pd\n",
    "import seaborn as sns\n",
    "import matplotlib.pyplot as plt\n",
    "import numpy as np\n",
    "\n",
    "from sklearn.preprocessing import StandardScaler\n",
    "from sklearn.model_selection import train_test_split\n",
    "from sklearn.neighbors import KNeighborsClassifier\n",
    "from sklearn.metrics import accuracy_score"
   ]
  },
  {
   "cell_type": "markdown",
   "id": "5d66e9b4-b422-4f20-8f2e-9c3f6e7043f8",
   "metadata": {},
   "source": [
    "### 1. Loading data"
   ]
  },
  {
   "cell_type": "code",
   "execution_count": 2,
   "id": "d0c02d06-7392-41ac-8fb0-1306efeb5e9a",
   "metadata": {},
   "outputs": [
    {
     "data": {
      "text/html": [
       "<div>\n",
       "<style scoped>\n",
       "    .dataframe tbody tr th:only-of-type {\n",
       "        vertical-align: middle;\n",
       "    }\n",
       "\n",
       "    .dataframe tbody tr th {\n",
       "        vertical-align: top;\n",
       "    }\n",
       "\n",
       "    .dataframe thead th {\n",
       "        text-align: right;\n",
       "    }\n",
       "</style>\n",
       "<table border=\"1\" class=\"dataframe\">\n",
       "  <thead>\n",
       "    <tr style=\"text-align: right;\">\n",
       "      <th></th>\n",
       "      <th>air_time1</th>\n",
       "      <th>disp_index1</th>\n",
       "      <th>gmrt_in_air1</th>\n",
       "      <th>gmrt_on_paper1</th>\n",
       "      <th>max_x_extension1</th>\n",
       "      <th>max_y_extension1</th>\n",
       "      <th>mean_acc_in_air1</th>\n",
       "      <th>mean_acc_on_paper1</th>\n",
       "      <th>mean_gmrt1</th>\n",
       "      <th>mean_jerk_in_air1</th>\n",
       "      <th>...</th>\n",
       "      <th>mean_jerk_in_air25</th>\n",
       "      <th>mean_jerk_on_paper25</th>\n",
       "      <th>mean_speed_in_air25</th>\n",
       "      <th>mean_speed_on_paper25</th>\n",
       "      <th>num_of_pendown25</th>\n",
       "      <th>paper_time25</th>\n",
       "      <th>pressure_mean25</th>\n",
       "      <th>pressure_var25</th>\n",
       "      <th>total_time25</th>\n",
       "      <th>class</th>\n",
       "    </tr>\n",
       "  </thead>\n",
       "  <tbody>\n",
       "    <tr>\n",
       "      <th>0</th>\n",
       "      <td>5160</td>\n",
       "      <td>0.000013</td>\n",
       "      <td>120.804174</td>\n",
       "      <td>86.853334</td>\n",
       "      <td>957</td>\n",
       "      <td>6601</td>\n",
       "      <td>0.361800</td>\n",
       "      <td>0.217459</td>\n",
       "      <td>103.828754</td>\n",
       "      <td>0.051836</td>\n",
       "      <td>...</td>\n",
       "      <td>0.141434</td>\n",
       "      <td>0.024471</td>\n",
       "      <td>5.596487</td>\n",
       "      <td>3.184589</td>\n",
       "      <td>71</td>\n",
       "      <td>40120</td>\n",
       "      <td>1749.278166</td>\n",
       "      <td>296102.7676</td>\n",
       "      <td>144605</td>\n",
       "      <td>1</td>\n",
       "    </tr>\n",
       "    <tr>\n",
       "      <th>1</th>\n",
       "      <td>51980</td>\n",
       "      <td>0.000016</td>\n",
       "      <td>115.318238</td>\n",
       "      <td>83.448681</td>\n",
       "      <td>1694</td>\n",
       "      <td>6998</td>\n",
       "      <td>0.272513</td>\n",
       "      <td>0.144880</td>\n",
       "      <td>99.383459</td>\n",
       "      <td>0.039827</td>\n",
       "      <td>...</td>\n",
       "      <td>0.049663</td>\n",
       "      <td>0.018368</td>\n",
       "      <td>1.665973</td>\n",
       "      <td>0.950249</td>\n",
       "      <td>129</td>\n",
       "      <td>126700</td>\n",
       "      <td>1504.768272</td>\n",
       "      <td>278744.2850</td>\n",
       "      <td>298640</td>\n",
       "      <td>1</td>\n",
       "    </tr>\n",
       "    <tr>\n",
       "      <th>2</th>\n",
       "      <td>2600</td>\n",
       "      <td>0.000010</td>\n",
       "      <td>229.933997</td>\n",
       "      <td>172.761858</td>\n",
       "      <td>2333</td>\n",
       "      <td>5802</td>\n",
       "      <td>0.387020</td>\n",
       "      <td>0.181342</td>\n",
       "      <td>201.347928</td>\n",
       "      <td>0.064220</td>\n",
       "      <td>...</td>\n",
       "      <td>0.178194</td>\n",
       "      <td>0.017174</td>\n",
       "      <td>4.000781</td>\n",
       "      <td>2.392521</td>\n",
       "      <td>74</td>\n",
       "      <td>45480</td>\n",
       "      <td>1431.443492</td>\n",
       "      <td>144411.7055</td>\n",
       "      <td>79025</td>\n",
       "      <td>1</td>\n",
       "    </tr>\n",
       "    <tr>\n",
       "      <th>3</th>\n",
       "      <td>2130</td>\n",
       "      <td>0.000010</td>\n",
       "      <td>369.403342</td>\n",
       "      <td>183.193104</td>\n",
       "      <td>1756</td>\n",
       "      <td>8159</td>\n",
       "      <td>0.556879</td>\n",
       "      <td>0.164502</td>\n",
       "      <td>276.298223</td>\n",
       "      <td>0.090408</td>\n",
       "      <td>...</td>\n",
       "      <td>0.113905</td>\n",
       "      <td>0.019860</td>\n",
       "      <td>4.206746</td>\n",
       "      <td>1.613522</td>\n",
       "      <td>123</td>\n",
       "      <td>67945</td>\n",
       "      <td>1465.843329</td>\n",
       "      <td>230184.7154</td>\n",
       "      <td>181220</td>\n",
       "      <td>1</td>\n",
       "    </tr>\n",
       "    <tr>\n",
       "      <th>4</th>\n",
       "      <td>2310</td>\n",
       "      <td>0.000007</td>\n",
       "      <td>257.997131</td>\n",
       "      <td>111.275889</td>\n",
       "      <td>987</td>\n",
       "      <td>4732</td>\n",
       "      <td>0.266077</td>\n",
       "      <td>0.145104</td>\n",
       "      <td>184.636510</td>\n",
       "      <td>0.037528</td>\n",
       "      <td>...</td>\n",
       "      <td>0.121782</td>\n",
       "      <td>0.020872</td>\n",
       "      <td>3.319036</td>\n",
       "      <td>1.680629</td>\n",
       "      <td>92</td>\n",
       "      <td>37285</td>\n",
       "      <td>1841.702561</td>\n",
       "      <td>158290.0255</td>\n",
       "      <td>72575</td>\n",
       "      <td>1</td>\n",
       "    </tr>\n",
       "  </tbody>\n",
       "</table>\n",
       "<p>5 rows × 451 columns</p>\n",
       "</div>"
      ],
      "text/plain": [
       "   air_time1  disp_index1  gmrt_in_air1  gmrt_on_paper1  max_x_extension1  \\\n",
       "0       5160     0.000013    120.804174       86.853334               957   \n",
       "1      51980     0.000016    115.318238       83.448681              1694   \n",
       "2       2600     0.000010    229.933997      172.761858              2333   \n",
       "3       2130     0.000010    369.403342      183.193104              1756   \n",
       "4       2310     0.000007    257.997131      111.275889               987   \n",
       "\n",
       "   max_y_extension1  mean_acc_in_air1  mean_acc_on_paper1  mean_gmrt1  \\\n",
       "0              6601          0.361800            0.217459  103.828754   \n",
       "1              6998          0.272513            0.144880   99.383459   \n",
       "2              5802          0.387020            0.181342  201.347928   \n",
       "3              8159          0.556879            0.164502  276.298223   \n",
       "4              4732          0.266077            0.145104  184.636510   \n",
       "\n",
       "   mean_jerk_in_air1  ...  mean_jerk_in_air25  mean_jerk_on_paper25  \\\n",
       "0           0.051836  ...            0.141434              0.024471   \n",
       "1           0.039827  ...            0.049663              0.018368   \n",
       "2           0.064220  ...            0.178194              0.017174   \n",
       "3           0.090408  ...            0.113905              0.019860   \n",
       "4           0.037528  ...            0.121782              0.020872   \n",
       "\n",
       "   mean_speed_in_air25  mean_speed_on_paper25  num_of_pendown25  paper_time25  \\\n",
       "0             5.596487               3.184589                71         40120   \n",
       "1             1.665973               0.950249               129        126700   \n",
       "2             4.000781               2.392521                74         45480   \n",
       "3             4.206746               1.613522               123         67945   \n",
       "4             3.319036               1.680629                92         37285   \n",
       "\n",
       "   pressure_mean25  pressure_var25  total_time25  class  \n",
       "0      1749.278166     296102.7676        144605      1  \n",
       "1      1504.768272     278744.2850        298640      1  \n",
       "2      1431.443492     144411.7055         79025      1  \n",
       "3      1465.843329     230184.7154        181220      1  \n",
       "4      1841.702561     158290.0255         72575      1  \n",
       "\n",
       "[5 rows x 451 columns]"
      ]
     },
     "execution_count": 2,
     "metadata": {},
     "output_type": "execute_result"
    }
   ],
   "source": [
    "# Read the csv file\n",
    "data = pd.read_csv('../data/clean_data/clean_data.csv')\n",
    "data.head()"
   ]
  },
  {
   "cell_type": "markdown",
   "id": "8285466c-5767-420f-a5c6-d3e35c5102cf",
   "metadata": {},
   "source": [
    "### 2. Processing Data"
   ]
  },
  {
   "cell_type": "code",
   "execution_count": 4,
   "id": "910c98c9-1760-44c0-8c85-4737dc8b94fa",
   "metadata": {},
   "outputs": [
    {
     "data": {
      "text/html": [
       "<div>\n",
       "<style scoped>\n",
       "    .dataframe tbody tr th:only-of-type {\n",
       "        vertical-align: middle;\n",
       "    }\n",
       "\n",
       "    .dataframe tbody tr th {\n",
       "        vertical-align: top;\n",
       "    }\n",
       "\n",
       "    .dataframe thead th {\n",
       "        text-align: right;\n",
       "    }\n",
       "</style>\n",
       "<table border=\"1\" class=\"dataframe\">\n",
       "  <thead>\n",
       "    <tr style=\"text-align: right;\">\n",
       "      <th></th>\n",
       "      <th>air_time1</th>\n",
       "      <th>disp_index1</th>\n",
       "      <th>gmrt_in_air1</th>\n",
       "      <th>gmrt_on_paper1</th>\n",
       "      <th>max_x_extension1</th>\n",
       "      <th>max_y_extension1</th>\n",
       "      <th>mean_acc_in_air1</th>\n",
       "      <th>mean_acc_on_paper1</th>\n",
       "      <th>mean_gmrt1</th>\n",
       "      <th>mean_jerk_in_air1</th>\n",
       "      <th>...</th>\n",
       "      <th>mean_jerk_in_air25</th>\n",
       "      <th>mean_jerk_on_paper25</th>\n",
       "      <th>mean_speed_in_air25</th>\n",
       "      <th>mean_speed_on_paper25</th>\n",
       "      <th>num_of_pendown25</th>\n",
       "      <th>paper_time25</th>\n",
       "      <th>pressure_mean25</th>\n",
       "      <th>pressure_var25</th>\n",
       "      <th>total_time25</th>\n",
       "      <th>class</th>\n",
       "    </tr>\n",
       "  </thead>\n",
       "  <tbody>\n",
       "    <tr>\n",
       "      <th>0</th>\n",
       "      <td>-0.039958</td>\n",
       "      <td>0.819201</td>\n",
       "      <td>-0.964281</td>\n",
       "      <td>-1.021048</td>\n",
       "      <td>-0.621190</td>\n",
       "      <td>-0.331301</td>\n",
       "      <td>-0.143336</td>\n",
       "      <td>0.583446</td>\n",
       "      <td>-1.097797</td>\n",
       "      <td>-0.210827</td>\n",
       "      <td>...</td>\n",
       "      <td>-0.110468</td>\n",
       "      <td>1.905814</td>\n",
       "      <td>0.750685</td>\n",
       "      <td>0.368053</td>\n",
       "      <td>-0.541445</td>\n",
       "      <td>-0.157047</td>\n",
       "      <td>0.370324</td>\n",
       "      <td>2.347146</td>\n",
       "      <td>-0.039552</td>\n",
       "      <td>1</td>\n",
       "    </tr>\n",
       "    <tr>\n",
       "      <th>1</th>\n",
       "      <td>3.670803</td>\n",
       "      <td>1.863195</td>\n",
       "      <td>-0.994191</td>\n",
       "      <td>-1.051635</td>\n",
       "      <td>-0.172774</td>\n",
       "      <td>-0.149357</td>\n",
       "      <td>-0.377846</td>\n",
       "      <td>-0.541698</td>\n",
       "      <td>-1.131393</td>\n",
       "      <td>-0.371903</td>\n",
       "      <td>...</td>\n",
       "      <td>-1.589980</td>\n",
       "      <td>-0.657467</td>\n",
       "      <td>-1.874750</td>\n",
       "      <td>-2.259487</td>\n",
       "      <td>1.574847</td>\n",
       "      <td>4.390919</td>\n",
       "      <td>-0.386182</td>\n",
       "      <td>2.040903</td>\n",
       "      <td>0.271310</td>\n",
       "      <td>1</td>\n",
       "    </tr>\n",
       "    <tr>\n",
       "      <th>2</th>\n",
       "      <td>-0.242853</td>\n",
       "      <td>0.162976</td>\n",
       "      <td>-0.369289</td>\n",
       "      <td>-0.249241</td>\n",
       "      <td>0.216015</td>\n",
       "      <td>-0.697480</td>\n",
       "      <td>-0.077097</td>\n",
       "      <td>0.023550</td>\n",
       "      <td>-0.360783</td>\n",
       "      <td>-0.044734</td>\n",
       "      <td>...</td>\n",
       "      <td>0.482173</td>\n",
       "      <td>-1.159080</td>\n",
       "      <td>-0.315186</td>\n",
       "      <td>-0.563403</td>\n",
       "      <td>-0.431982</td>\n",
       "      <td>0.124509</td>\n",
       "      <td>-0.613046</td>\n",
       "      <td>-0.329030</td>\n",
       "      <td>-0.171900</td>\n",
       "      <td>1</td>\n",
       "    </tr>\n",
       "    <tr>\n",
       "      <th>3</th>\n",
       "      <td>-0.280104</td>\n",
       "      <td>0.162976</td>\n",
       "      <td>0.391119</td>\n",
       "      <td>-0.155526</td>\n",
       "      <td>-0.135051</td>\n",
       "      <td>0.382725</td>\n",
       "      <td>0.369034</td>\n",
       "      <td>-0.237507</td>\n",
       "      <td>0.205663</td>\n",
       "      <td>0.306488</td>\n",
       "      <td>...</td>\n",
       "      <td>-0.554289</td>\n",
       "      <td>-0.031154</td>\n",
       "      <td>-0.177609</td>\n",
       "      <td>-1.479491</td>\n",
       "      <td>1.355920</td>\n",
       "      <td>1.304574</td>\n",
       "      <td>-0.506614</td>\n",
       "      <td>1.184202</td>\n",
       "      <td>0.034342</td>\n",
       "      <td>1</td>\n",
       "    </tr>\n",
       "    <tr>\n",
       "      <th>4</th>\n",
       "      <td>-0.265837</td>\n",
       "      <td>-0.863121</td>\n",
       "      <td>-0.216284</td>\n",
       "      <td>-0.801634</td>\n",
       "      <td>-0.602937</td>\n",
       "      <td>-1.187857</td>\n",
       "      <td>-0.394751</td>\n",
       "      <td>-0.538220</td>\n",
       "      <td>-0.487082</td>\n",
       "      <td>-0.402728</td>\n",
       "      <td>...</td>\n",
       "      <td>-0.427298</td>\n",
       "      <td>0.394214</td>\n",
       "      <td>-0.770566</td>\n",
       "      <td>-1.400574</td>\n",
       "      <td>0.224798</td>\n",
       "      <td>-0.305967</td>\n",
       "      <td>0.656282</td>\n",
       "      <td>-0.084184</td>\n",
       "      <td>-0.184917</td>\n",
       "      <td>1</td>\n",
       "    </tr>\n",
       "  </tbody>\n",
       "</table>\n",
       "<p>5 rows × 451 columns</p>\n",
       "</div>"
      ],
      "text/plain": [
       "   air_time1  disp_index1  gmrt_in_air1  gmrt_on_paper1  max_x_extension1  \\\n",
       "0  -0.039958     0.819201     -0.964281       -1.021048         -0.621190   \n",
       "1   3.670803     1.863195     -0.994191       -1.051635         -0.172774   \n",
       "2  -0.242853     0.162976     -0.369289       -0.249241          0.216015   \n",
       "3  -0.280104     0.162976      0.391119       -0.155526         -0.135051   \n",
       "4  -0.265837    -0.863121     -0.216284       -0.801634         -0.602937   \n",
       "\n",
       "   max_y_extension1  mean_acc_in_air1  mean_acc_on_paper1  mean_gmrt1  \\\n",
       "0         -0.331301         -0.143336            0.583446   -1.097797   \n",
       "1         -0.149357         -0.377846           -0.541698   -1.131393   \n",
       "2         -0.697480         -0.077097            0.023550   -0.360783   \n",
       "3          0.382725          0.369034           -0.237507    0.205663   \n",
       "4         -1.187857         -0.394751           -0.538220   -0.487082   \n",
       "\n",
       "   mean_jerk_in_air1  ...  mean_jerk_in_air25  mean_jerk_on_paper25  \\\n",
       "0          -0.210827  ...           -0.110468              1.905814   \n",
       "1          -0.371903  ...           -1.589980             -0.657467   \n",
       "2          -0.044734  ...            0.482173             -1.159080   \n",
       "3           0.306488  ...           -0.554289             -0.031154   \n",
       "4          -0.402728  ...           -0.427298              0.394214   \n",
       "\n",
       "   mean_speed_in_air25  mean_speed_on_paper25  num_of_pendown25  paper_time25  \\\n",
       "0             0.750685               0.368053         -0.541445     -0.157047   \n",
       "1            -1.874750              -2.259487          1.574847      4.390919   \n",
       "2            -0.315186              -0.563403         -0.431982      0.124509   \n",
       "3            -0.177609              -1.479491          1.355920      1.304574   \n",
       "4            -0.770566              -1.400574          0.224798     -0.305967   \n",
       "\n",
       "   pressure_mean25  pressure_var25  total_time25  class  \n",
       "0         0.370324        2.347146     -0.039552      1  \n",
       "1        -0.386182        2.040903      0.271310      1  \n",
       "2        -0.613046       -0.329030     -0.171900      1  \n",
       "3        -0.506614        1.184202      0.034342      1  \n",
       "4         0.656282       -0.084184     -0.184917      1  \n",
       "\n",
       "[5 rows x 451 columns]"
      ]
     },
     "execution_count": 4,
     "metadata": {},
     "output_type": "execute_result"
    }
   ],
   "source": [
    "# Separate features and target\n",
    "X = data.drop(['class'], axis=1)\n",
    "\n",
    "# Save original column names\n",
    "columns_names = X.columns\n",
    "\n",
    "# Standardize the data\n",
    "scaler = StandardScaler()\n",
    "df_scaled = pd.DataFrame(scaler.fit_transform(X), columns=columns_names)\n",
    "\n",
    "# Attach the target column back\n",
    "df_scaled['class'] = data['class']\n",
    "\n",
    "df_scaled.head()"
   ]
  },
  {
   "cell_type": "code",
   "execution_count": 41,
   "id": "f03ba7e3-ade0-48eb-b786-d173f95da220",
   "metadata": {},
   "outputs": [
    {
     "name": "stdout",
     "output_type": "stream",
     "text": [
      "(174,) (174, 450)\n"
     ]
    }
   ],
   "source": [
    "#Train test split\n",
    "\n",
    "y = data['class']\n",
    "X = data.drop(['class'], axis=1)\n",
    "print(y.shape, X.shape)"
   ]
  },
  {
   "cell_type": "markdown",
   "id": "475fcbf6-02c4-456b-a8ef-99cedd9bddba",
   "metadata": {},
   "source": [
    "### 3. K-Nearest Neighbors (KNN) Classifier"
   ]
  },
  {
   "cell_type": "code",
   "execution_count": 42,
   "id": "2b0fbfb2-9c2f-447b-9498-2d76cd512198",
   "metadata": {},
   "outputs": [
    {
     "data": {
      "text/plain": [
       "((130, 450), (44, 450), (130,), (44,))"
      ]
     },
     "execution_count": 42,
     "metadata": {},
     "output_type": "execute_result"
    }
   ],
   "source": [
    "X_train, X_test, y_train, y_test = train_test_split(X,y, test_size=0.25, random_state=42)\n",
    "\n",
    "X_train.shape, X_test.shape, y_train.shape, y_test.shape"
   ]
  },
  {
   "cell_type": "code",
   "execution_count": 43,
   "id": "b654365c-5aa1-4b3d-9fa9-5fc3fde4d8f5",
   "metadata": {},
   "outputs": [
    {
     "data": {
      "text/html": [
       "<style>#sk-container-id-4 {color: black;background-color: white;}#sk-container-id-4 pre{padding: 0;}#sk-container-id-4 div.sk-toggleable {background-color: white;}#sk-container-id-4 label.sk-toggleable__label {cursor: pointer;display: block;width: 100%;margin-bottom: 0;padding: 0.3em;box-sizing: border-box;text-align: center;}#sk-container-id-4 label.sk-toggleable__label-arrow:before {content: \"▸\";float: left;margin-right: 0.25em;color: #696969;}#sk-container-id-4 label.sk-toggleable__label-arrow:hover:before {color: black;}#sk-container-id-4 div.sk-estimator:hover label.sk-toggleable__label-arrow:before {color: black;}#sk-container-id-4 div.sk-toggleable__content {max-height: 0;max-width: 0;overflow: hidden;text-align: left;background-color: #f0f8ff;}#sk-container-id-4 div.sk-toggleable__content pre {margin: 0.2em;color: black;border-radius: 0.25em;background-color: #f0f8ff;}#sk-container-id-4 input.sk-toggleable__control:checked~div.sk-toggleable__content {max-height: 200px;max-width: 100%;overflow: auto;}#sk-container-id-4 input.sk-toggleable__control:checked~label.sk-toggleable__label-arrow:before {content: \"▾\";}#sk-container-id-4 div.sk-estimator input.sk-toggleable__control:checked~label.sk-toggleable__label {background-color: #d4ebff;}#sk-container-id-4 div.sk-label input.sk-toggleable__control:checked~label.sk-toggleable__label {background-color: #d4ebff;}#sk-container-id-4 input.sk-hidden--visually {border: 0;clip: rect(1px 1px 1px 1px);clip: rect(1px, 1px, 1px, 1px);height: 1px;margin: -1px;overflow: hidden;padding: 0;position: absolute;width: 1px;}#sk-container-id-4 div.sk-estimator {font-family: monospace;background-color: #f0f8ff;border: 1px dotted black;border-radius: 0.25em;box-sizing: border-box;margin-bottom: 0.5em;}#sk-container-id-4 div.sk-estimator:hover {background-color: #d4ebff;}#sk-container-id-4 div.sk-parallel-item::after {content: \"\";width: 100%;border-bottom: 1px solid gray;flex-grow: 1;}#sk-container-id-4 div.sk-label:hover label.sk-toggleable__label {background-color: #d4ebff;}#sk-container-id-4 div.sk-serial::before {content: \"\";position: absolute;border-left: 1px solid gray;box-sizing: border-box;top: 0;bottom: 0;left: 50%;z-index: 0;}#sk-container-id-4 div.sk-serial {display: flex;flex-direction: column;align-items: center;background-color: white;padding-right: 0.2em;padding-left: 0.2em;position: relative;}#sk-container-id-4 div.sk-item {position: relative;z-index: 1;}#sk-container-id-4 div.sk-parallel {display: flex;align-items: stretch;justify-content: center;background-color: white;position: relative;}#sk-container-id-4 div.sk-item::before, #sk-container-id-4 div.sk-parallel-item::before {content: \"\";position: absolute;border-left: 1px solid gray;box-sizing: border-box;top: 0;bottom: 0;left: 50%;z-index: -1;}#sk-container-id-4 div.sk-parallel-item {display: flex;flex-direction: column;z-index: 1;position: relative;background-color: white;}#sk-container-id-4 div.sk-parallel-item:first-child::after {align-self: flex-end;width: 50%;}#sk-container-id-4 div.sk-parallel-item:last-child::after {align-self: flex-start;width: 50%;}#sk-container-id-4 div.sk-parallel-item:only-child::after {width: 0;}#sk-container-id-4 div.sk-dashed-wrapped {border: 1px dashed gray;margin: 0 0.4em 0.5em 0.4em;box-sizing: border-box;padding-bottom: 0.4em;background-color: white;}#sk-container-id-4 div.sk-label label {font-family: monospace;font-weight: bold;display: inline-block;line-height: 1.2em;}#sk-container-id-4 div.sk-label-container {text-align: center;}#sk-container-id-4 div.sk-container {/* jupyter's `normalize.less` sets `[hidden] { display: none; }` but bootstrap.min.css set `[hidden] { display: none !important; }` so we also need the `!important` here to be able to override the default hidden behavior on the sphinx rendered scikit-learn.org. See: https://github.com/scikit-learn/scikit-learn/issues/21755 */display: inline-block !important;position: relative;}#sk-container-id-4 div.sk-text-repr-fallback {display: none;}</style><div id=\"sk-container-id-4\" class=\"sk-top-container\"><div class=\"sk-text-repr-fallback\"><pre>KNeighborsClassifier(n_neighbors=13)</pre><b>In a Jupyter environment, please rerun this cell to show the HTML representation or trust the notebook. <br />On GitHub, the HTML representation is unable to render, please try loading this page with nbviewer.org.</b></div><div class=\"sk-container\" hidden><div class=\"sk-item\"><div class=\"sk-estimator sk-toggleable\"><input class=\"sk-toggleable__control sk-hidden--visually\" id=\"sk-estimator-id-4\" type=\"checkbox\" checked><label for=\"sk-estimator-id-4\" class=\"sk-toggleable__label sk-toggleable__label-arrow\">KNeighborsClassifier</label><div class=\"sk-toggleable__content\"><pre>KNeighborsClassifier(n_neighbors=13)</pre></div></div></div></div></div>"
      ],
      "text/plain": [
       "KNeighborsClassifier(n_neighbors=13)"
      ]
     },
     "execution_count": 43,
     "metadata": {},
     "output_type": "execute_result"
    }
   ],
   "source": [
    "model = KNeighborsClassifier(n_neighbors=13)\n",
    "model.fit(X_train, y_train)"
   ]
  },
  {
   "cell_type": "code",
   "execution_count": 44,
   "id": "2e23970c-2580-4776-8d54-0fd8de6b19d9",
   "metadata": {
    "scrolled": true,
    "tags": []
   },
   "outputs": [
    {
     "data": {
      "text/plain": [
       "0.7538461538461538"
      ]
     },
     "execution_count": 44,
     "metadata": {},
     "output_type": "execute_result"
    }
   ],
   "source": [
    "predictions_train = model.predict(X_train)\n",
    "score_train = model.score(X_train, y_train)\n",
    "score_train"
   ]
  },
  {
   "cell_type": "code",
   "execution_count": 30,
   "id": "525599a3-2aa7-4fd4-9e66-f34c0939ee69",
   "metadata": {},
   "outputs": [
    {
     "data": {
      "text/plain": [
       "0.75"
      ]
     },
     "execution_count": 45,
     "metadata": {},
     "output_type": "execute_result"
    }
   ],
   "source": [
    "predictions_test = model.predict(X_test)\n",
    "score_test = model.score(X_test, y_test)\n",
    "score_test"
   ]
  },
  {
   "cell_type": "code",
   "execution_count": 55,
   "id": "705ff611-1b8e-42ae-bf97-6bc51328218c",
   "metadata": {},
   "outputs": [],
   "source": [
    "scores = []\n",
    "for k in range(1,21):\n",
    "    model = KNeighborsClassifier(n_neighbors = k)\n",
    "    model.fit(X_train, y_train)\n",
    "    score = model.score(X_test,y_test)\n",
    "    scores.append(score)"
   ]
  },
  {
   "cell_type": "code",
   "execution_count": 52,
   "id": "6790c98f-70c1-4ca0-8420-d176c7bd92ac",
   "metadata": {},
   "outputs": [
    {
     "data": {
      "text/plain": [
       "[0.8181818181818182,\n",
       " 0.7727272727272727,\n",
       " 0.8181818181818182,\n",
       " 0.7272727272727273,\n",
       " 0.8181818181818182,\n",
       " 0.75,\n",
       " 0.75,\n",
       " 0.6818181818181818,\n",
       " 0.7272727272727273,\n",
       " 0.6818181818181818,\n",
       " 0.7272727272727273,\n",
       " 0.6818181818181818,\n",
       " 0.75,\n",
       " 0.6590909090909091,\n",
       " 0.7045454545454546,\n",
       " 0.7045454545454546,\n",
       " 0.75,\n",
       " 0.75,\n",
       " 0.7272727272727273,\n",
       " 0.7045454545454546]"
      ]
     },
     "execution_count": 52,
     "metadata": {},
     "output_type": "execute_result"
    }
   ],
   "source": [
    "scores"
   ]
  },
  {
   "cell_type": "code",
   "execution_count": 53,
   "id": "638edbb3-0824-44bd-90fb-3bfa167cc979",
   "metadata": {},
   "outputs": [
    {
     "data": {
      "image/png": "[encoded data removed]",
      "text/plain": [
       "<Figure size 1000x600 with 1 Axes>"
      ]
     },
     "metadata": {},
     "output_type": "display_data"
    }
   ],
   "source": [
    "plt.figure(figsize=(10,6))\n",
    "plt.plot(range(1,21), scores, marker='o')\n",
    "plt.xlabel('k')\n",
    "plt.ylabel('Accuracy score')\n",
    "plt.show()"
   ]
  },
  {
   "cell_type": "code",
   "execution_count": null,
   "id": "b5535607-0c89-4271-a914-0c6d1a8aca0c",
   "metadata": {},
   "outputs": [],
   "source": []
  },
  {
   "cell_type": "code",
   "execution_count": null,
   "id": "ceb34286-4ab8-4b83-b469-97714883d6e2",
   "metadata": {},
   "outputs": [],
   "source": []
  },
  {
   "cell_type": "code",
   "execution_count": null,
   "id": "29ee592e-2842-4a60-aece-429a2b74cac7",
   "metadata": {},
   "outputs": [],
   "source": []
  },
  {
   "cell_type": "code",
   "execution_count": null,
   "id": "a75eb5fc-f6c8-4db9-bc28-1d1ce3a706d8",
   "metadata": {},
   "outputs": [],
   "source": []
  },
  {
   "cell_type": "code",
   "execution_count": null,
   "id": "278a9cb3-c254-4bc9-8fbe-974faeb173b2",
   "metadata": {},
   "outputs": [],
   "source": []
  },
  {
   "cell_type": "code",
   "execution_count": null,
   "id": "94ef1505-351d-4c79-bf4e-c0279a202d33",
   "metadata": {},
   "outputs": [],
   "source": []
  },
  {
   "cell_type": "code",
   "execution_count": null,
   "id": "3e4b0f57-5182-45f9-aa62-05e057518c0e",
   "metadata": {},
   "outputs": [],
   "source": []
  },
  {
   "cell_type": "code",
   "execution_count": null,
   "id": "a40fa471-2560-4881-9d88-bc6e9af9bc7f",
   "metadata": {},
   "outputs": [],
   "source": []
  }
 ],
 "metadata": {
  "kernelspec": {
   "display_name": "Python 3 (ipykernel)",
   "language": "python",
   "name": "python3"
  },
  "language_info": {
   "codemirror_mode": {
    "name": "ipython",
    "version": 3
   },
   "file_extension": ".py",
   "mimetype": "text/x-python",
   "name": "python",
   "nbconvert_exporter": "python",
   "pygments_lexer": "ipython3",
   "version": "3.10.9"
  }
 },
 "nbformat": 4,
 "nbformat_minor": 5
}
