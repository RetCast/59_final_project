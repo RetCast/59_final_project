{
 "cells": [
  {
   "cell_type": "markdown",
   "id": "17fea0e5-9d39-4c2e-9add-9cfc6450a2c6",
   "metadata": {},
   "source": [
    "## Final Project"
   ]
  },
  {
   "cell_type": "markdown",
   "id": "de3d4993-130e-41ac-88ed-cfd57a8753b7",
   "metadata": {},
   "source": [
    "### 0. Import libraries"
   ]
  },
  {
   "cell_type": "code",
   "execution_count": 25,
   "id": "32e9b01a-6163-4033-87d9-e19e5f466736",
   "metadata": {},
   "outputs": [],
   "source": [
    "import pandas as pd\n",
    "import numpy as np\n",
    "import matplotlib.pyplot as plt\n",
    "import sklearn\n",
    "\n",
    "from sklearn.ensemble import RandomForestClassifier\n",
    "from sklearn.model_selection import train_test_split\n",
    "from sklearn.metrics import confusion_matrix, ConfusionMatrixDisplay, accuracy_score, precision_score, recall_score, f1_score, cohen_kappa_score"
   ]
  },
  {
   "cell_type": "markdown",
   "id": "9c69142e-6d48-4d36-adfa-98cd58a8c16b",
   "metadata": {},
   "source": [
    "### 1. Loading data"
   ]
  },
  {
   "cell_type": "code",
   "execution_count": 3,
   "id": "1d46fd8d-43b7-42f2-a043-b662cc55d801",
   "metadata": {},
   "outputs": [
    {
     "data": {
      "text/html": [
       "<div>\n",
       "<style scoped>\n",
       "    .dataframe tbody tr th:only-of-type {\n",
       "        vertical-align: middle;\n",
       "    }\n",
       "\n",
       "    .dataframe tbody tr th {\n",
       "        vertical-align: top;\n",
       "    }\n",
       "\n",
       "    .dataframe thead th {\n",
       "        text-align: right;\n",
       "    }\n",
       "</style>\n",
       "<table border=\"1\" class=\"dataframe\">\n",
       "  <thead>\n",
       "    <tr style=\"text-align: right;\">\n",
       "      <th></th>\n",
       "      <th>air_time1</th>\n",
       "      <th>disp_index1</th>\n",
       "      <th>gmrt_in_air1</th>\n",
       "      <th>gmrt_on_paper1</th>\n",
       "      <th>max_x_extension1</th>\n",
       "      <th>max_y_extension1</th>\n",
       "      <th>mean_acc_in_air1</th>\n",
       "      <th>mean_acc_on_paper1</th>\n",
       "      <th>mean_gmrt1</th>\n",
       "      <th>mean_jerk_in_air1</th>\n",
       "      <th>...</th>\n",
       "      <th>mean_jerk_in_air25</th>\n",
       "      <th>mean_jerk_on_paper25</th>\n",
       "      <th>mean_speed_in_air25</th>\n",
       "      <th>mean_speed_on_paper25</th>\n",
       "      <th>num_of_pendown25</th>\n",
       "      <th>paper_time25</th>\n",
       "      <th>pressure_mean25</th>\n",
       "      <th>pressure_var25</th>\n",
       "      <th>total_time25</th>\n",
       "      <th>class</th>\n",
       "    </tr>\n",
       "  </thead>\n",
       "  <tbody>\n",
       "    <tr>\n",
       "      <th>0</th>\n",
       "      <td>5160</td>\n",
       "      <td>0.000013</td>\n",
       "      <td>120.804174</td>\n",
       "      <td>86.853334</td>\n",
       "      <td>957</td>\n",
       "      <td>6601</td>\n",
       "      <td>0.361800</td>\n",
       "      <td>0.217459</td>\n",
       "      <td>103.828754</td>\n",
       "      <td>0.051836</td>\n",
       "      <td>...</td>\n",
       "      <td>0.141434</td>\n",
       "      <td>0.024471</td>\n",
       "      <td>5.596487</td>\n",
       "      <td>3.184589</td>\n",
       "      <td>71</td>\n",
       "      <td>40120</td>\n",
       "      <td>1749.278166</td>\n",
       "      <td>296102.7676</td>\n",
       "      <td>144605</td>\n",
       "      <td>1</td>\n",
       "    </tr>\n",
       "    <tr>\n",
       "      <th>1</th>\n",
       "      <td>51980</td>\n",
       "      <td>0.000016</td>\n",
       "      <td>115.318238</td>\n",
       "      <td>83.448681</td>\n",
       "      <td>1694</td>\n",
       "      <td>6998</td>\n",
       "      <td>0.272513</td>\n",
       "      <td>0.144880</td>\n",
       "      <td>99.383459</td>\n",
       "      <td>0.039827</td>\n",
       "      <td>...</td>\n",
       "      <td>0.049663</td>\n",
       "      <td>0.018368</td>\n",
       "      <td>1.665973</td>\n",
       "      <td>0.950249</td>\n",
       "      <td>129</td>\n",
       "      <td>126700</td>\n",
       "      <td>1504.768272</td>\n",
       "      <td>278744.2850</td>\n",
       "      <td>298640</td>\n",
       "      <td>1</td>\n",
       "    </tr>\n",
       "    <tr>\n",
       "      <th>2</th>\n",
       "      <td>2600</td>\n",
       "      <td>0.000010</td>\n",
       "      <td>229.933997</td>\n",
       "      <td>172.761858</td>\n",
       "      <td>2333</td>\n",
       "      <td>5802</td>\n",
       "      <td>0.387020</td>\n",
       "      <td>0.181342</td>\n",
       "      <td>201.347928</td>\n",
       "      <td>0.064220</td>\n",
       "      <td>...</td>\n",
       "      <td>0.178194</td>\n",
       "      <td>0.017174</td>\n",
       "      <td>4.000781</td>\n",
       "      <td>2.392521</td>\n",
       "      <td>74</td>\n",
       "      <td>45480</td>\n",
       "      <td>1431.443492</td>\n",
       "      <td>144411.7055</td>\n",
       "      <td>79025</td>\n",
       "      <td>1</td>\n",
       "    </tr>\n",
       "    <tr>\n",
       "      <th>3</th>\n",
       "      <td>2130</td>\n",
       "      <td>0.000010</td>\n",
       "      <td>369.403342</td>\n",
       "      <td>183.193104</td>\n",
       "      <td>1756</td>\n",
       "      <td>8159</td>\n",
       "      <td>0.556879</td>\n",
       "      <td>0.164502</td>\n",
       "      <td>276.298223</td>\n",
       "      <td>0.090408</td>\n",
       "      <td>...</td>\n",
       "      <td>0.113905</td>\n",
       "      <td>0.019860</td>\n",
       "      <td>4.206746</td>\n",
       "      <td>1.613522</td>\n",
       "      <td>123</td>\n",
       "      <td>67945</td>\n",
       "      <td>1465.843329</td>\n",
       "      <td>230184.7154</td>\n",
       "      <td>181220</td>\n",
       "      <td>1</td>\n",
       "    </tr>\n",
       "    <tr>\n",
       "      <th>4</th>\n",
       "      <td>2310</td>\n",
       "      <td>0.000007</td>\n",
       "      <td>257.997131</td>\n",
       "      <td>111.275889</td>\n",
       "      <td>987</td>\n",
       "      <td>4732</td>\n",
       "      <td>0.266077</td>\n",
       "      <td>0.145104</td>\n",
       "      <td>184.636510</td>\n",
       "      <td>0.037528</td>\n",
       "      <td>...</td>\n",
       "      <td>0.121782</td>\n",
       "      <td>0.020872</td>\n",
       "      <td>3.319036</td>\n",
       "      <td>1.680629</td>\n",
       "      <td>92</td>\n",
       "      <td>37285</td>\n",
       "      <td>1841.702561</td>\n",
       "      <td>158290.0255</td>\n",
       "      <td>72575</td>\n",
       "      <td>1</td>\n",
       "    </tr>\n",
       "  </tbody>\n",
       "</table>\n",
       "<p>5 rows × 451 columns</p>\n",
       "</div>"
      ],
      "text/plain": [
       "   air_time1  disp_index1  gmrt_in_air1  gmrt_on_paper1  max_x_extension1  \\\n",
       "0       5160     0.000013    120.804174       86.853334               957   \n",
       "1      51980     0.000016    115.318238       83.448681              1694   \n",
       "2       2600     0.000010    229.933997      172.761858              2333   \n",
       "3       2130     0.000010    369.403342      183.193104              1756   \n",
       "4       2310     0.000007    257.997131      111.275889               987   \n",
       "\n",
       "   max_y_extension1  mean_acc_in_air1  mean_acc_on_paper1  mean_gmrt1  \\\n",
       "0              6601          0.361800            0.217459  103.828754   \n",
       "1              6998          0.272513            0.144880   99.383459   \n",
       "2              5802          0.387020            0.181342  201.347928   \n",
       "3              8159          0.556879            0.164502  276.298223   \n",
       "4              4732          0.266077            0.145104  184.636510   \n",
       "\n",
       "   mean_jerk_in_air1  ...  mean_jerk_in_air25  mean_jerk_on_paper25  \\\n",
       "0           0.051836  ...            0.141434              0.024471   \n",
       "1           0.039827  ...            0.049663              0.018368   \n",
       "2           0.064220  ...            0.178194              0.017174   \n",
       "3           0.090408  ...            0.113905              0.019860   \n",
       "4           0.037528  ...            0.121782              0.020872   \n",
       "\n",
       "   mean_speed_in_air25  mean_speed_on_paper25  num_of_pendown25  paper_time25  \\\n",
       "0             5.596487               3.184589                71         40120   \n",
       "1             1.665973               0.950249               129        126700   \n",
       "2             4.000781               2.392521                74         45480   \n",
       "3             4.206746               1.613522               123         67945   \n",
       "4             3.319036               1.680629                92         37285   \n",
       "\n",
       "   pressure_mean25  pressure_var25  total_time25  class  \n",
       "0      1749.278166     296102.7676        144605      1  \n",
       "1      1504.768272     278744.2850        298640      1  \n",
       "2      1431.443492     144411.7055         79025      1  \n",
       "3      1465.843329     230184.7154        181220      1  \n",
       "4      1841.702561     158290.0255         72575      1  \n",
       "\n",
       "[5 rows x 451 columns]"
      ]
     },
     "execution_count": 3,
     "metadata": {},
     "output_type": "execute_result"
    }
   ],
   "source": [
    "# Read the csv file\n",
    "data = pd.read_csv('../data/clean_data/clean_data.csv')\n",
    "data.head()"
   ]
  },
  {
   "cell_type": "code",
   "execution_count": 4,
   "id": "fd555ed2-fe91-43bb-af3b-103e76e72759",
   "metadata": {},
   "outputs": [
    {
     "data": {
      "text/plain": [
       "(174, 451)"
      ]
     },
     "execution_count": 4,
     "metadata": {},
     "output_type": "execute_result"
    }
   ],
   "source": [
    "data.shape"
   ]
  },
  {
   "cell_type": "markdown",
   "id": "42f689b8-f5fc-4921-b973-1d85f58eb95e",
   "metadata": {},
   "source": [
    "### 2. Processing Data"
   ]
  },
  {
   "cell_type": "code",
   "execution_count": null,
   "id": "94a422c4-bb4f-41cf-a460-128b79f164af",
   "metadata": {},
   "outputs": [],
   "source": []
  },
  {
   "cell_type": "markdown",
   "id": "74af2aba-8dad-4496-a4a2-7ecf8d897aef",
   "metadata": {},
   "source": [
    "### 3. Random Forest Classifier"
   ]
  },
  {
   "cell_type": "code",
   "execution_count": 7,
   "id": "fb5c5212-31a1-4a15-82c8-7e10ffef938b",
   "metadata": {},
   "outputs": [
    {
     "name": "stdout",
     "output_type": "stream",
     "text": [
      "(174,) (174, 450)\n"
     ]
    }
   ],
   "source": [
    "#Train test split\n",
    "\n",
    "y = data['class']\n",
    "X = data.drop(['class'], axis=1)\n",
    "print(y.shape, X.shape)"
   ]
  },
  {
   "cell_type": "code",
   "execution_count": 8,
   "id": "6b9102cc-c8e2-4cb5-9def-b9031ef1fd3e",
   "metadata": {},
   "outputs": [
    {
     "data": {
      "text/plain": [
       "((130, 450), (44, 450), (130,), (44,))"
      ]
     },
     "execution_count": 8,
     "metadata": {},
     "output_type": "execute_result"
    }
   ],
   "source": [
    "X_train, X_test, y_train, y_test = train_test_split(X,y, test_size=0.25, random_state=42)\n",
    "\n",
    "X_train.shape, X_test.shape, y_train.shape, y_test.shape"
   ]
  },
  {
   "cell_type": "code",
   "execution_count": 12,
   "id": "9c3f94d6-3162-49f6-a16e-83f5de24c573",
   "metadata": {},
   "outputs": [
    {
     "data": {
      "text/html": [
       "<style>#sk-container-id-1 {color: black;background-color: white;}#sk-container-id-1 pre{padding: 0;}#sk-container-id-1 div.sk-toggleable {background-color: white;}#sk-container-id-1 label.sk-toggleable__label {cursor: pointer;display: block;width: 100%;margin-bottom: 0;padding: 0.3em;box-sizing: border-box;text-align: center;}#sk-container-id-1 label.sk-toggleable__label-arrow:before {content: \"▸\";float: left;margin-right: 0.25em;color: #696969;}#sk-container-id-1 label.sk-toggleable__label-arrow:hover:before {color: black;}#sk-container-id-1 div.sk-estimator:hover label.sk-toggleable__label-arrow:before {color: black;}#sk-container-id-1 div.sk-toggleable__content {max-height: 0;max-width: 0;overflow: hidden;text-align: left;background-color: #f0f8ff;}#sk-container-id-1 div.sk-toggleable__content pre {margin: 0.2em;color: black;border-radius: 0.25em;background-color: #f0f8ff;}#sk-container-id-1 input.sk-toggleable__control:checked~div.sk-toggleable__content {max-height: 200px;max-width: 100%;overflow: auto;}#sk-container-id-1 input.sk-toggleable__control:checked~label.sk-toggleable__label-arrow:before {content: \"▾\";}#sk-container-id-1 div.sk-estimator input.sk-toggleable__control:checked~label.sk-toggleable__label {background-color: #d4ebff;}#sk-container-id-1 div.sk-label input.sk-toggleable__control:checked~label.sk-toggleable__label {background-color: #d4ebff;}#sk-container-id-1 input.sk-hidden--visually {border: 0;clip: rect(1px 1px 1px 1px);clip: rect(1px, 1px, 1px, 1px);height: 1px;margin: -1px;overflow: hidden;padding: 0;position: absolute;width: 1px;}#sk-container-id-1 div.sk-estimator {font-family: monospace;background-color: #f0f8ff;border: 1px dotted black;border-radius: 0.25em;box-sizing: border-box;margin-bottom: 0.5em;}#sk-container-id-1 div.sk-estimator:hover {background-color: #d4ebff;}#sk-container-id-1 div.sk-parallel-item::after {content: \"\";width: 100%;border-bottom: 1px solid gray;flex-grow: 1;}#sk-container-id-1 div.sk-label:hover label.sk-toggleable__label {background-color: #d4ebff;}#sk-container-id-1 div.sk-serial::before {content: \"\";position: absolute;border-left: 1px solid gray;box-sizing: border-box;top: 0;bottom: 0;left: 50%;z-index: 0;}#sk-container-id-1 div.sk-serial {display: flex;flex-direction: column;align-items: center;background-color: white;padding-right: 0.2em;padding-left: 0.2em;position: relative;}#sk-container-id-1 div.sk-item {position: relative;z-index: 1;}#sk-container-id-1 div.sk-parallel {display: flex;align-items: stretch;justify-content: center;background-color: white;position: relative;}#sk-container-id-1 div.sk-item::before, #sk-container-id-1 div.sk-parallel-item::before {content: \"\";position: absolute;border-left: 1px solid gray;box-sizing: border-box;top: 0;bottom: 0;left: 50%;z-index: -1;}#sk-container-id-1 div.sk-parallel-item {display: flex;flex-direction: column;z-index: 1;position: relative;background-color: white;}#sk-container-id-1 div.sk-parallel-item:first-child::after {align-self: flex-end;width: 50%;}#sk-container-id-1 div.sk-parallel-item:last-child::after {align-self: flex-start;width: 50%;}#sk-container-id-1 div.sk-parallel-item:only-child::after {width: 0;}#sk-container-id-1 div.sk-dashed-wrapped {border: 1px dashed gray;margin: 0 0.4em 0.5em 0.4em;box-sizing: border-box;padding-bottom: 0.4em;background-color: white;}#sk-container-id-1 div.sk-label label {font-family: monospace;font-weight: bold;display: inline-block;line-height: 1.2em;}#sk-container-id-1 div.sk-label-container {text-align: center;}#sk-container-id-1 div.sk-container {/* jupyter's `normalize.less` sets `[hidden] { display: none; }` but bootstrap.min.css set `[hidden] { display: none !important; }` so we also need the `!important` here to be able to override the default hidden behavior on the sphinx rendered scikit-learn.org. See: https://github.com/scikit-learn/scikit-learn/issues/21755 */display: inline-block !important;position: relative;}#sk-container-id-1 div.sk-text-repr-fallback {display: none;}</style><div id=\"sk-container-id-1\" class=\"sk-top-container\"><div class=\"sk-text-repr-fallback\"><pre>RandomForestClassifier(max_depth=2, random_state=0)</pre><b>In a Jupyter environment, please rerun this cell to show the HTML representation or trust the notebook. <br />On GitHub, the HTML representation is unable to render, please try loading this page with nbviewer.org.</b></div><div class=\"sk-container\" hidden><div class=\"sk-item\"><div class=\"sk-estimator sk-toggleable\"><input class=\"sk-toggleable__control sk-hidden--visually\" id=\"sk-estimator-id-1\" type=\"checkbox\" checked><label for=\"sk-estimator-id-1\" class=\"sk-toggleable__label sk-toggleable__label-arrow\">RandomForestClassifier</label><div class=\"sk-toggleable__content\"><pre>RandomForestClassifier(max_depth=2, random_state=0)</pre></div></div></div></div></div>"
      ],
      "text/plain": [
       "RandomForestClassifier(max_depth=2, random_state=0)"
      ]
     },
     "execution_count": 12,
     "metadata": {},
     "output_type": "execute_result"
    }
   ],
   "source": [
    "clf = RandomForestClassifier(max_depth=2, random_state=0)\n",
    "clf.fit(X_train, y_train)"
   ]
  },
  {
   "cell_type": "code",
   "execution_count": 13,
   "id": "95e4bd59-652b-42ba-8a87-505be91bcb60",
   "metadata": {},
   "outputs": [
    {
     "name": "stdout",
     "output_type": "stream",
     "text": [
      "0.9846153846153847\n"
     ]
    }
   ],
   "source": [
    "print(clf.score(X_train, y_train))"
   ]
  },
  {
   "cell_type": "code",
   "execution_count": 11,
   "id": "154b4ac3-cd84-44b7-bc16-ce662403b9dd",
   "metadata": {},
   "outputs": [
    {
     "name": "stdout",
     "output_type": "stream",
     "text": [
      "0.8636363636363636\n"
     ]
    }
   ],
   "source": [
    "print(clf.score(X_test, y_test))"
   ]
  },
  {
   "cell_type": "code",
   "execution_count": 22,
   "id": "39d63703-6a3a-4b00-b5e4-8a5610780740",
   "metadata": {},
   "outputs": [
    {
     "data": {
      "text/plain": [
       "1    23\n",
       "0    21\n",
       "Name: class, dtype: int64"
      ]
     },
     "metadata": {},
     "output_type": "display_data"
    },
    {
     "data": {
      "image/png": "[encoded data removed]",
      "text/plain": [
       "<Figure size 640x480 with 2 Axes>"
      ]
     },
     "metadata": {},
     "output_type": "display_data"
    }
   ],
   "source": [
    "y_pred = clf.predict(X_test)\n",
    "display(y_test.value_counts())\n",
    "\n",
    "cm_train = confusion_matrix(y_test, y_pred)\n",
    "disp = ConfusionMatrixDisplay(cm_train, display_labels=clf.classes_)\n",
    "disp.plot()\n",
    "plt.show()"
   ]
  },
  {
   "cell_type": "code",
   "execution_count": 28,
   "id": "abd3ae3e-005a-4f0b-b63d-0798f625b457",
   "metadata": {},
   "outputs": [],
   "source": [
    "#Cross validate\n",
    "\n",
    "from sklearn.model_selection import cross_validate\n",
    "\n",
    "clf = RandomForestClassifier(max_depth=2, random_state=0)\n",
    "results = cross_validate(clf, X_train, y_train, cv=10, scoring=['accuracy', 'recall'])"
   ]
  },
  {
   "cell_type": "code",
   "execution_count": 29,
   "id": "1ad3ad7f-97a9-420a-be84-395c8f69954f",
   "metadata": {},
   "outputs": [
    {
     "data": {
      "text/plain": [
       "{'fit_time': array([0.55864787, 0.56519604, 0.54742599, 0.5550611 , 0.54969072,\n",
       "        0.55384755, 0.58933043, 0.57997274, 0.57436419, 0.54101777]),\n",
       " 'score_time': array([0.04442358, 0.04345965, 0.0404439 , 0.04021525, 0.04260993,\n",
       "        0.04106617, 0.04299188, 0.03592324, 0.04305696, 0.04271746]),\n",
       " 'test_accuracy': array([0.84615385, 1.        , 0.76923077, 0.92307692, 0.76923077,\n",
       "        0.84615385, 0.84615385, 0.69230769, 0.84615385, 0.92307692]),\n",
       " 'test_recall': array([1.        , 1.        , 0.66666667, 0.83333333, 0.71428571,\n",
       "        1.        , 0.71428571, 0.85714286, 1.        , 0.85714286])}"
      ]
     },
     "execution_count": 29,
     "metadata": {},
     "output_type": "execute_result"
    }
   ],
   "source": [
    "results"
   ]
  },
  {
   "cell_type": "code",
   "execution_count": 30,
   "id": "12ba1614-4fba-4357-a8f8-0d1809b6ebf0",
   "metadata": {},
   "outputs": [
    {
     "name": "stdout",
     "output_type": "stream",
     "text": [
      "The mean accuracy is: 0.8461538461538461\n",
      "The mean recall is: 0.8642857142857142\n"
     ]
    }
   ],
   "source": [
    "print(f'The mean accuracy is: {np.mean(results[\"test_accuracy\"])}')\n",
    "print(f'The mean recall is: {np.mean(results[\"test_recall\"])}')"
   ]
  },
  {
   "cell_type": "code",
   "execution_count": 39,
   "id": "aba06885-21d7-4f1e-9e06-f84f62df48ab",
   "metadata": {},
   "outputs": [],
   "source": [
    "# Hyperparameter tuning\n",
    "\n",
    "from sklearn.model_selection import GridSearchCV\n",
    "\n",
    "param_grid = {\n",
    "    'max_depth': [3, 4, 5, 6, 7, 8, 9, 10],\n",
    "    'n_estimators': [100, 150, 200, 250, 300],\n",
    "    'bootstrap': [True, False],\n",
    "    'min_samples_split': [2, 4],\n",
    "    'min_samples_leaf' : [1, 2],\n",
    "    }"
   ]
  },
  {
   "cell_type": "code",
   "execution_count": 33,
   "id": "1cfbee9b-df8d-4d30-be25-7c1b7e3fa65a",
   "metadata": {},
   "outputs": [
    {
     "name": "stdout",
     "output_type": "stream",
     "text": [
      "Number of CPUs in the system: 8\n"
     ]
    }
   ],
   "source": [
    "import os\n",
    "\n",
    "n_cpu = os.cpu_count()\n",
    "print(\"Number of CPUs in the system:\", n_cpu)"
   ]
  },
  {
   "cell_type": "code",
   "execution_count": 40,
   "id": "276deac2-62a0-4347-b88e-a8138dc5576c",
   "metadata": {},
   "outputs": [
    {
     "name": "stdout",
     "output_type": "stream",
     "text": [
      "Fitting 5 folds for each of 320 candidates, totalling 1600 fits\n"
     ]
    },
    {
     "data": {
      "text/plain": [
       "{'bootstrap': False,\n",
       " 'max_depth': 3,\n",
       " 'min_samples_leaf': 1,\n",
       " 'min_samples_split': 2,\n",
       " 'n_estimators': 250}"
      ]
     },
     "execution_count": 40,
     "metadata": {},
     "output_type": "execute_result"
    }
   ],
   "source": [
    "clf = RandomForestClassifier(random_state=100)\n",
    "\n",
    "grid_search = GridSearchCV(clf, param_grid, cv=5, return_train_score=True, n_jobs=6, verbose=1)\n",
    "grid_search.fit(X_train,y_train)\n",
    "grid_search.best_params_"
   ]
  },
  {
   "cell_type": "code",
   "execution_count": 41,
   "id": "83c57836-adec-4178-9a12-0604af98d1bd",
   "metadata": {},
   "outputs": [
    {
     "data": {
      "text/plain": [
       "0.9153846153846154"
      ]
     },
     "execution_count": 41,
     "metadata": {},
     "output_type": "execute_result"
    }
   ],
   "source": [
    "grid_search.best_score_"
   ]
  },
  {
   "cell_type": "code",
   "execution_count": 42,
   "id": "e9f68469-8234-4dac-91da-1566f92d05cd",
   "metadata": {},
   "outputs": [
    {
     "name": "stdout",
     "output_type": "stream",
     "text": [
      "1.0 0.8636363636363636\n"
     ]
    },
    {
     "data": {
      "text/plain": [
       "1    23\n",
       "0    21\n",
       "Name: class, dtype: int64"
      ]
     },
     "metadata": {},
     "output_type": "display_data"
    },
    {
     "data": {
      "image/png": "[encoded data removed]",
      "text/plain": [
       "<Figure size 640x480 with 2 Axes>"
      ]
     },
     "metadata": {},
     "output_type": "display_data"
    }
   ],
   "source": [
    "clf.fit(X_train, y_train)\n",
    "print(clf.score(X_train, y_train), clf.score(X_test, y_test))\n",
    "\n",
    "y_pred = clf.predict(X_test)\n",
    "display(y_test.value_counts())\n",
    "\n",
    "cm_train = confusion_matrix(y_test, y_pred)\n",
    "disp = ConfusionMatrixDisplay(cm_train, display_labels=clf.classes_)\n",
    "disp.plot()\n",
    "plt.show()"
   ]
  },
  {
   "cell_type": "code",
   "execution_count": 45,
   "id": "bbf0455f-a8f6-4d2c-b9e3-1d9324c92eaa",
   "metadata": {},
   "outputs": [
    {
     "name": "stdout",
     "output_type": "stream",
     "text": [
      "The accuracy in the TEST set is: 0.86\n",
      "The precision in the TEST set is: 0.87\n",
      "The recall in the TEST set is: 0.87\n",
      "The F1 in the TEST set is: 0.87\n",
      "The Kappa in the TEST set is: 0.73\n"
     ]
    }
   ],
   "source": [
    "print(\"The accuracy in the TEST set is: {:.2f}\".format(accuracy_score(y_test,y_pred)))\n",
    "print(\"The precision in the TEST set is: {:.2f}\".format(precision_score(y_test,y_pred)))\n",
    "print(\"The recall in the TEST set is: {:.2f}\".format(recall_score(y_test,y_pred)))\n",
    "print(\"The F1 in the TEST set is: {:.2f}\".format(f1_score(y_test,y_pred)))\n",
    "print(\"The Kappa in the TEST set is: {:.2f}\".format(cohen_kappa_score(y_test,y_pred)))"
   ]
  }
 ],
 "metadata": {
  "kernelspec": {
   "display_name": "Python 3 (ipykernel)",
   "language": "python",
   "name": "python3"
  },
  "language_info": {
   "codemirror_mode": {
    "name": "ipython",
    "version": 3
   },
   "file_extension": ".py",
   "mimetype": "text/x-python",
   "name": "python",
   "nbconvert_exporter": "python",
   "pygments_lexer": "ipython3",
   "version": "3.10.9"
  }
 },
 "nbformat": 4,
 "nbformat_minor": 5
}
